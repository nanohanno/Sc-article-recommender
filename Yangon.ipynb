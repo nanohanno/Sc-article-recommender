{
 "cells": [
  {
   "cell_type": "markdown",
   "metadata": {},
   "source": [
    "# Staying up-to date with research literature: An article recommender for research groups"
   ]
  },
  {
   "cell_type": "markdown",
   "metadata": {},
   "source": [
    "In research the complete knowledge about a topic should be contained in articles published by all researchers. So, it is critical for researchers to know about existing literature in order to compare results and learn from existing ideas. Therefore, it is important to know about recently published articles in the same field. In recent years, the number of publications and journals has increased dramatically. Thus, browsing through recently published articles has become a time-consuming task. In our research group this work was divided between the researchers, so everybody had to monitor a list of journals that publish articles in the domain. For small groups and a still growing journal landscape this task is difficult to maintain. Mendeley, which we used as a literature management database in our group, also tries to recommend new articles, but this function somehow does not work so well. Mostly, I got recommendations for last years' publications of my colleagues. Therefore, I wanted to see if it is possible to start from the existing database of literature that should contain all topics that are interesting for our group and try to build a classifier based on this data."
   ]
  },
  {
   "cell_type": "markdown",
   "metadata": {},
   "source": [
    "## Load Mendeley ham"
   ]
  },
  {
   "cell_type": "markdown",
   "metadata": {},
   "source": [
    "As already mentioned, we used Mendeley to collect publications of interest. The database can be exported by Mendeley in XML format. Unfortunately, some entries had bad encoding and I ran into encoding errors while importing. As I did not find a smarter way, I erased the handful of entries that caused these errors manually.\n",
    "\n",
    "For the import of the XML database into a pandas dataframe I wrote a function based on code by Austin Taylor (http://www.austintaylor.io/lxml/python/pandas/xml/dataframe/2016/07/08/convert-xml-to-pandas-dataframe/)."
   ]
  },
  {
   "cell_type": "code",
   "execution_count": 1,
   "metadata": {},
   "outputs": [],
   "source": [
    "import pandas as pd\n",
    "import sklearn\n",
    "import numpy as np\n",
    "import matplotlib.pyplot as plt\n",
    "%matplotlib inline\n",
    "\n",
    "import os\n",
    "\n",
    "os.environ['KMP_DUPLICATE_LIB_OK']='True'"
   ]
  },
  {
   "cell_type": "code",
   "execution_count": 2,
   "metadata": {},
   "outputs": [],
   "source": [
    "import xml.etree.ElementTree as ET\n",
    "\n",
    "class XML2DataFrame:\n",
    "\n",
    "    def __init__(self, xml_data):\n",
    "        #self.root = ET.parse(xml_data)\n",
    "        #parser = ET.XMLParser(encoding='ASCII')\n",
    "        #parser = ET.XMLParser(recover=True)\n",
    "        tree = ET.parse(xml_data)\n",
    "        self.root = tree.getroot()\n",
    "        \n",
    "    def parse_root(self, root):\n",
    "        return [self.parse_element(child) for child in iter(root)]\n",
    "\n",
    "    def parse_element(self, element, parsed=None):\n",
    "        if parsed is None:\n",
    "            parsed = dict()\n",
    "        for key in element.keys():\n",
    "            parsed[key] = element.attrib.get(key)\n",
    "        if element.text:\n",
    "            parsed[element.tag] = element.text\n",
    "        for child in list(element):\n",
    "            self.parse_element(child, parsed)\n",
    "        return parsed\n",
    "\n",
    "    def process_data(self):\n",
    "        structure_data = self.parse_root(self.root)\n",
    "        return pd.DataFrame(structure_data)\n",
    "    \n",
    "def load_mendeley_database(path):\n",
    "    wanted_loaded = XML2DataFrame(path)\n",
    "    wanted_df = wanted_loaded.process_data()\n",
    "    return wanted_df"
   ]
  },
  {
   "cell_type": "markdown",
   "metadata": {},
   "source": [
    "The imported dataframe contains entries for all articles in the rows with features as columns."
   ]
  },
  {
   "cell_type": "code",
   "execution_count": 3,
   "metadata": {},
   "outputs": [
    {
     "name": "stdout",
     "output_type": "stream",
     "text": [
      "<class 'pandas.core.frame.DataFrame'>\n",
      "RangeIndex: 7049 entries, 0 to 7048\n",
      "Data columns (total 26 columns):\n",
      "abstract                   2793 non-null object\n",
      "accession-num              1289 non-null object\n",
      "author                     7047 non-null object\n",
      "database                   7049 non-null object\n",
      "edition                    14 non-null object\n",
      "electronic-resource-num    6314 non-null object\n",
      "full-title                 6942 non-null object\n",
      "isbn                       453 non-null object\n",
      "issue                      6114 non-null object\n",
      "keyword                    1905 non-null object\n",
      "label                      735 non-null object\n",
      "language                   114 non-null object\n",
      "name                       7049 non-null object\n",
      "notes                      171 non-null object\n",
      "pages                      6824 non-null object\n",
      "path                       7049 non-null object\n",
      "pub-location               27 non-null object\n",
      "publisher                  1182 non-null object\n",
      "ref-type                   7049 non-null object\n",
      "research-notes             171 non-null object\n",
      "secondary-title            6942 non-null object\n",
      "short-title                18 non-null object\n",
      "title                      7049 non-null object\n",
      "url                        6970 non-null object\n",
      "volume                     6764 non-null object\n",
      "year                       7037 non-null object\n",
      "dtypes: object(26)\n",
      "memory usage: 1.4+ MB\n"
     ]
    }
   ],
   "source": [
    "mendeley_path = 'data/NanowireGroup_complete_clear.xml'\n",
    "ham_df = load_mendeley_database(mendeley_path)\n",
    "ham_df.info()"
   ]
  },
  {
   "cell_type": "markdown",
   "metadata": {},
   "source": [
    "## Select time range and clean data"
   ]
  },
  {
   "cell_type": "markdown",
   "metadata": {},
   "source": [
    "The database from our group is already maintained over some years and contains publications from over hundred years ago to the beginning of 2018. "
   ]
  },
  {
   "cell_type": "code",
   "execution_count": 4,
   "metadata": {},
   "outputs": [
    {
     "data": {
      "text/plain": [
       "<matplotlib.axes._subplots.AxesSubplot at 0xa1836dc18>"
      ]
     },
     "execution_count": 4,
     "metadata": {},
     "output_type": "execute_result"
    },
    {
     "data": {
      "image/png": "[encoded data removed]",
      "text/plain": [
       "<Figure size 1080x360 with 1 Axes>"
      ]
     },
     "metadata": {
      "needs_background": "light"
     },
     "output_type": "display_data"
    }
   ],
   "source": [
    "fig, ax = plt.subplots(figsize=(15, 5))\n",
    "ham_df['year'].groupby(ham_df['year']).count().plot(kind='bar',color='blue',ax=ax)"
   ]
  },
  {
   "cell_type": "markdown",
   "metadata": {},
   "source": [
    "To make sure that we concentrate on recent nanowire related publications I restricted the publications to be from 2011 to 2018:"
   ]
  },
  {
   "cell_type": "code",
   "execution_count": 5,
   "metadata": {},
   "outputs": [
    {
     "name": "stderr",
     "output_type": "stream",
     "text": [
      "/Users/hannokupers/anaconda3/envs/yangon/lib/python3.6/site-packages/ipykernel_launcher.py:5: UserWarning: Boolean Series key will be reindexed to match DataFrame index.\n",
      "  \"\"\"\n"
     ]
    }
   ],
   "source": [
    "min_year = 2010\n",
    "max_year = 2018\n",
    "ham_df['year'] = pd.to_numeric(ham_df['year'], errors='coerce')\n",
    "ham_timerange_df = ham_df[ham_df['year']>min_year]\n",
    "ham_timerange_df = ham_timerange_df[ham_df['year']<max_year]"
   ]
  },
  {
   "cell_type": "markdown",
   "metadata": {},
   "source": [
    "Unfortunately, many entries in the database do not contain abstracts. Also in the Crossref DOI system, that is used later on to retrieve information, the abstracts are often not delivered. That means at this point, there is no straight-forward way to use the abstracts as data. Therefore, I had to use the title information as the feature for later classification."
   ]
  },
  {
   "cell_type": "code",
   "execution_count": 6,
   "metadata": {},
   "outputs": [],
   "source": [
    "feature = 'title'\n",
    "ham_clean_df = ham_timerange_df.dropna(subset=[feature])\n",
    "ham_clean_df = ham_clean_df[['title', 'electronic-resource-num', 'abstract']]"
   ]
  },
  {
   "cell_type": "markdown",
   "metadata": {},
   "source": [
    "In the cleaning, the few entries without title information are dropped and all columns except title, DOI number ('electronic-resource-num'), and abstract are kept:"
   ]
  },
  {
   "cell_type": "code",
   "execution_count": 7,
   "metadata": {},
   "outputs": [
    {
     "name": "stdout",
     "output_type": "stream",
     "text": [
      "<class 'pandas.core.frame.DataFrame'>\n",
      "Int64Index: 4214 entries, 0 to 7035\n",
      "Data columns (total 3 columns):\n",
      "title                      4214 non-null object\n",
      "electronic-resource-num    4214 non-null object\n",
      "abstract                   1777 non-null object\n",
      "dtypes: object(3)\n",
      "memory usage: 131.7+ KB\n"
     ]
    }
   ],
   "source": [
    "ham_DOI_df = ham_clean_df.dropna(subset=['electronic-resource-num'])\n",
    "ham_DOI_df.info()"
   ]
  },
  {
   "cell_type": "markdown",
   "metadata": {},
   "source": [
    "# Generate spam from DOI request"
   ]
  },
  {
   "cell_type": "markdown",
   "metadata": {},
   "source": [
    "So far we only have data on interesting articles. For classification we also need some spam data, which is off course not available in the database. Here, I used the DOI identifier of the ham selection to generate spam. This digital document identifier gives a unique index to all digital publications (https://en.wikipedia.org/wiki/Digital_object_identifier). When the DOI of an existing article is incremented, this new DOI should reference another article in the same journal and from a similar topic but must not be included in the ham itself."
   ]
  },
  {
   "cell_type": "code",
   "execution_count": 8,
   "metadata": {},
   "outputs": [],
   "source": [
    "import re\n",
    "\n",
    "def increment_DOI(DOI_original, increment=1):\n",
    "    DOI_inc = re.sub(r'(\\.*.*0*)(\\d+)$', lambda x: x.group(1) + str(int(x.group(2)) + increment), DOI_original)\n",
    "    return DOI_inc"
   ]
  },
  {
   "cell_type": "markdown",
   "metadata": {},
   "source": [
    "Then a request for the information for this newly generated DOI is done on the Crossref API using the wrapper library from https://github.com/fabiobatalha/crossrefapi. Note that we are only interested in the title of the publication"
   ]
  },
  {
   "cell_type": "code",
   "execution_count": 9,
   "metadata": {},
   "outputs": [],
   "source": [
    "from crossref.restful import Works\n",
    "\n",
    "def request_title(DOI):\n",
    "    works = Works()\n",
    "    single_work = works.doi(DOI)\n",
    "    title = single_work['title'][0]\n",
    "    return title"
   ]
  },
  {
   "cell_type": "markdown",
   "metadata": {},
   "source": [
    "Now, for every entry in the ham collection multiple requests are done for neighbouring publications. As the DOI number is not always iterating for every journal, this procedure fails in many cases. Here, a smarter system might be necessary to make it more robust. As multiple request are tried, we will still generate enough entries. \n",
    "Possibly, some publications are missing in our ham collection - they could have been overlooked or removed in the data cleaning - but when we generate a large collection of spam data (multiple requests per ham entry) these publications should be less severe when the ham data is upsampled later on."
   ]
  },
  {
   "cell_type": "code",
   "execution_count": null,
   "metadata": {},
   "outputs": [],
   "source": [
    "spam_DOI_title = []\n",
    "spam_DOI_number = []\n",
    "\n",
    "for DOI_entry in ham_DOI_df['electronic-resource-num'][:]:\n",
    "    for inc in range(-5,5):\n",
    "        spam_DOI = increment_DOI(DOI_entry,inc)\n",
    "        if ham_DOI_df['electronic-resource-num'].isin([spam_DOI]).any():\n",
    "            pass\n",
    "        else:\n",
    "            try:\n",
    "                spam_title = request_title(spam_DOI)\n",
    "                spam_DOI_title.append(spam_title)\n",
    "                spam_DOI_number.append(spam_DOI)\n",
    "            except TypeError:\n",
    "                pass#print('Error')\n",
    "spam_DOI_df = pd.DataFrame({'electronic-resource-num':spam_DOI_number,'title':spam_DOI_title})"
   ]
  },
  {
   "cell_type": "markdown",
   "metadata": {},
   "source": [
    "This list of requests takes a very long time as every request is done sequentially. Therefore, I saved the requests after the first attempt to load for later experiments."
   ]
  },
  {
   "cell_type": "code",
   "execution_count": null,
   "metadata": {},
   "outputs": [],
   "source": [
    "#spam_DOI_df.to_pickle('./spam_DOI_20181025')"
   ]
  },
  {
   "cell_type": "code",
   "execution_count": 10,
   "metadata": {},
   "outputs": [],
   "source": [
    "spam_DOI_df = pd.read_pickle('data/spam_DOI_20181025')"
   ]
  },
  {
   "cell_type": "markdown",
   "metadata": {},
   "source": [
    "For consistency we check the frequency of different journals (first part of the DOI number). For journals or publishers where the DOI number does not iterate, our request needs to fail and less entries are generated for the spam collection."
   ]
  },
  {
   "cell_type": "code",
   "execution_count": 11,
   "metadata": {},
   "outputs": [
    {
     "data": {
      "text/plain": [
       "<matplotlib.axes._subplots.AxesSubplot at 0xa19f47c50>"
      ]
     },
     "execution_count": 11,
     "metadata": {},
     "output_type": "execute_result"
    },
    {
     "data": {
      "image/png": "[encoded data removed]",
      "text/plain": [
       "<Figure size 720x360 with 1 Axes>"
      ]
     },
     "metadata": {
      "needs_background": "light"
     },
     "output_type": "display_data"
    }
   ],
   "source": [
    "DOI_journal_list = []\n",
    "for entry in spam_DOI_df['electronic-resource-num']:\n",
    "    DOI_journal = entry.split('/')[0]\n",
    "    DOI_journal_list.append(DOI_journal)\n",
    "    \n",
    "spam_DOI_df['DOI_journal'] = DOI_journal_list   \n",
    "\n",
    "DOI_journal_list = []\n",
    "for entry in ham_DOI_df['electronic-resource-num'][:100]:\n",
    "    DOI_journal = entry.split('/')[0]\n",
    "    DOI_journal_list.append(DOI_journal)\n",
    "    \n",
    "ham_DOI_slice_df = pd.DataFrame({'DOI_journal':DOI_journal_list})\n",
    "\n",
    "spam_counts = spam_DOI_df['DOI_journal'].value_counts() / spam_DOI_df['DOI_journal'].count()\n",
    "ham_counts = ham_DOI_slice_df['DOI_journal'].value_counts() / ham_DOI_slice_df['DOI_journal'].count()\n",
    "\n",
    "fig, ax = plt.subplots(figsize=(10,5))\n",
    "pd.concat([spam_counts.rename('spam'),ham_counts.rename('ham')],axis=1,sort=True).plot.bar(ax=ax)"
   ]
  },
  {
   "cell_type": "code",
   "execution_count": 12,
   "metadata": {},
   "outputs": [
    {
     "name": "stdout",
     "output_type": "stream",
     "text": [
      "<class 'pandas.core.frame.DataFrame'>\n",
      "RangeIndex: 7571 entries, 0 to 7570\n",
      "Data columns (total 3 columns):\n",
      "electronic-resource-num    7571 non-null object\n",
      "title                      7571 non-null object\n",
      "DOI_journal                7571 non-null object\n",
      "dtypes: object(3)\n",
      "memory usage: 177.5+ KB\n",
      "None\n"
     ]
    }
   ],
   "source": [
    "print(spam_DOI_df.info())"
   ]
  },
  {
   "cell_type": "markdown",
   "metadata": {},
   "source": [
    "Not all journals or publishers appear in the spam collection but the journals that appear most often in the ham collection also contribute strongly to the spam collection. To improve this, a better way of incrementing the DOI number might help or using the volume number of the publication and then requesting titles of all other publications in this volume might be smarter."
   ]
  },
  {
   "cell_type": "markdown",
   "metadata": {},
   "source": [
    "# Combine spam and ham"
   ]
  },
  {
   "cell_type": "markdown",
   "metadata": {},
   "source": [
    "To use the collected ham and spam data for classification we add columns for the category (1: ham, 0:spam) and combine the two dataframes."
   ]
  },
  {
   "cell_type": "code",
   "execution_count": 13,
   "metadata": {},
   "outputs": [
    {
     "name": "stderr",
     "output_type": "stream",
     "text": [
      "/Users/hannokupers/anaconda3/envs/yangon/lib/python3.6/site-packages/ipykernel_launcher.py:1: SettingWithCopyWarning: \n",
      "A value is trying to be set on a copy of a slice from a DataFrame.\n",
      "Try using .loc[row_indexer,col_indexer] = value instead\n",
      "\n",
      "See the caveats in the documentation: http://pandas.pydata.org/pandas-docs/stable/indexing.html#indexing-view-versus-copy\n",
      "  \"\"\"Entry point for launching an IPython kernel.\n"
     ]
    }
   ],
   "source": [
    "ham_DOI_df['category'] = 1\n",
    "spam_DOI_df['category'] = 0"
   ]
  },
  {
   "cell_type": "code",
   "execution_count": 14,
   "metadata": {},
   "outputs": [
    {
     "name": "stdout",
     "output_type": "stream",
     "text": [
      "<class 'pandas.core.frame.DataFrame'>\n",
      "RangeIndex: 11785 entries, 0 to 11784\n",
      "Data columns (total 5 columns):\n",
      "DOI_journal                7571 non-null object\n",
      "abstract                   1777 non-null object\n",
      "category                   11785 non-null int64\n",
      "electronic-resource-num    11785 non-null object\n",
      "title                      11785 non-null object\n",
      "dtypes: int64(1), object(4)\n",
      "memory usage: 460.4+ KB\n"
     ]
    },
    {
     "name": "stderr",
     "output_type": "stream",
     "text": [
      "/Users/hannokupers/anaconda3/envs/yangon/lib/python3.6/site-packages/pandas/core/frame.py:6211: FutureWarning: Sorting because non-concatenation axis is not aligned. A future version\n",
      "of pandas will change to not sort by default.\n",
      "\n",
      "To accept the future behavior, pass 'sort=False'.\n",
      "\n",
      "To retain the current behavior and silence the warning, pass 'sort=True'.\n",
      "\n",
      "  sort=sort)\n"
     ]
    }
   ],
   "source": [
    "combined_df = ham_DOI_df.copy().append(spam_DOI_df);\n",
    "combined_df = combined_df.copy().reset_index(drop=True)\n",
    "combined_df.info()"
   ]
  },
  {
   "cell_type": "code",
   "execution_count": 15,
   "metadata": {},
   "outputs": [
    {
     "data": {
      "text/plain": [
       "['Erratum: “Pb0.94La0.04[(Zr0.70Sn0.30)0.90Ti0.10]O3 antiferroelectric bulk ceramics for pulsed capacitors with high energy and power density” [Appl. Phys. Lett. 110, 142904 (2017)]',\n",
       " 'Klein-Gordon-Schrödinger system: Dinucleon field',\n",
       " 'Performance evaluation and bias correction of DBS measurements for a 1290-MHz boundary layer profiler',\n",
       " 'Selective multiple domain wall injection using spin-orbit torque',\n",
       " 'Using periodic orbits to compute chaotic transport rates between resonance           zones',\n",
       " 'Optimized neural network based thermal and electrical scheduling of virtual power plant in the presence of energy storage',\n",
       " 'Piezoelectric energy harvester for low engine vibrations',\n",
       " 'Analysis of a commercial-scale photovoltaics system performance and economic feasibility',\n",
       " 'Piezoelectricity of green carp scales',\n",
       " 'Influence of internal electric and elastic fields on characteristics of heterogeneous ferroelectric materials']"
      ]
     },
     "execution_count": 15,
     "metadata": {},
     "output_type": "execute_result"
    }
   ],
   "source": [
    "list(spam_DOI_df[feature].head(10))"
   ]
  },
  {
   "cell_type": "markdown",
   "metadata": {},
   "source": [
    "# Train model"
   ]
  },
  {
   "cell_type": "markdown",
   "metadata": {},
   "source": [
    "## Feature preparation"
   ]
  },
  {
   "cell_type": "markdown",
   "metadata": {},
   "source": [
    "Before anything is done with the data, the combined collection is split into train and test set to have a valid measure at the end. I used a test size of 30%:"
   ]
  },
  {
   "cell_type": "code",
   "execution_count": 16,
   "metadata": {},
   "outputs": [],
   "source": [
    "from sklearn.model_selection import train_test_split\n",
    "\n",
    "X_train, X_test, y_train, y_test = train_test_split(np.array(combined_df[feature]).reshape(-1, 1), combined_df['category'], test_size = 0.3)"
   ]
  },
  {
   "cell_type": "markdown",
   "metadata": {},
   "source": [
    "The size of the spam collection is not easily controllable and we tried to achieve a large collection. Therefore, the combined collection contains more entries for spam than ham. This imbalance in samples can lead to problems for many machine learning algorithms because the category with higher occurence obtains a higher weight. Therefore, we use oversampling to obtain the same number of samples for both categories. Here, random samples are re-sampled from the ham data and the ham collection increases in size. Only the train set is oversampled as the test set needs to be in its original shape.\n",
    "\n",
    "Unfortunately, the oversampling did not improve the results significantly but caused some difficulties with the validation of the neural network, therefore I turned it off."
   ]
  },
  {
   "cell_type": "code",
   "execution_count": 17,
   "metadata": {},
   "outputs": [],
   "source": [
    "#from imblearn.over_sampling import RandomOverSampler \n",
    "\n",
    "#ros = RandomOverSampler()\n",
    "#X_train, y_train = ros.fit_sample(X_train.reshape(-1, 1), y_train)\n",
    "#X_test, y_test = ros.fit_sample(X_test.reshape(-1, 1), y_test)\n",
    "\n",
    "X_train, X_test = X_train.ravel(), X_test.ravel()"
   ]
  },
  {
   "cell_type": "code",
   "execution_count": 18,
   "metadata": {},
   "outputs": [
    {
     "name": "stdout",
     "output_type": "stream",
     "text": [
      "Number of samples per category in train: [5278 2971]\n",
      "Number of samples per category in test: [2293 1243]\n"
     ]
    }
   ],
   "source": [
    "_ , counts_train = np.unique(y_train, return_counts=True)\n",
    "print('Number of samples per category in train: %s' % counts_train)\n",
    "\n",
    "_ , counts = np.unique(y_test, return_counts=True)\n",
    "print('Number of samples per category in test: %s' % counts)"
   ]
  },
  {
   "cell_type": "markdown",
   "metadata": {},
   "source": [
    "## Stemming"
   ]
  },
  {
   "cell_type": "markdown",
   "metadata": {},
   "source": [
    "In a straight-forward bag-of-words approach, every word is treated as unique. Words that have the same root or so called stem are treated as completely indepent. Obviously, that is not great for words like 'nanowire' and 'nanowires' for example. Therefore, I used an implementation of a Porter Stemmer in gensim to reduce all occuring words first to its stem."
   ]
  },
  {
   "cell_type": "code",
   "execution_count": 19,
   "metadata": {},
   "outputs": [],
   "source": [
    "from gensim.parsing.porter import PorterStemmer\n",
    "\n",
    "p = PorterStemmer()\n",
    "\n",
    "X_train_pstem = p.stem_documents(X_train)\n",
    "X_test_pstem = p.stem_documents(X_test)"
   ]
  },
  {
   "cell_type": "markdown",
   "metadata": {},
   "source": [
    "## Vectorizer"
   ]
  },
  {
   "cell_type": "markdown",
   "metadata": {},
   "source": [
    "The titles need to be converted to some kind of numerical data. A typical way to convert a text into a vector is the bag-of-words approach. Here, every word in a text gets a unique ID and a dictionary of all words in the text is build. This way, every title is converted into a large vector that has the size of the dictionary, indicating the occurence of every word in the respective title. These resulting matrix of all word vectors from all titles is the very sparse. Typically, some words appear in every text and are not informative on the content on its own, such as 'the', 'a', 'he' in english text. By setting stop_words in the transformer, such words are automatically removed from the dictionary. Also, the words in the title are not independent from each other but the titles structure is important for its meaning. If only the word occurence is counted, this meaning is lost. To avoid this effect slightly, ngrams can be used which are combinations of n neighbouring words into one, such as 'nanowire growth'. Here we chose to use 1, 2, and 3-grams."
   ]
  },
  {
   "cell_type": "code",
   "execution_count": 20,
   "metadata": {},
   "outputs": [],
   "source": [
    "from sklearn.feature_extraction.text import CountVectorizer, TfidfVectorizer\n",
    "\n",
    "count_vect = TfidfVectorizer(use_idf='False',stop_words='english',min_df=5, ngram_range=(1,3)) #min_df=1, \n",
    "X_train_counts = count_vect.fit_transform(X_train_pstem) #'abstract'\n",
    "X_test_counts = count_vect.transform(X_test_pstem)"
   ]
  },
  {
   "cell_type": "code",
   "execution_count": 21,
   "metadata": {},
   "outputs": [
    {
     "name": "stdout",
     "output_type": "stream",
     "text": [
      "(8249, 3622)\n"
     ]
    }
   ],
   "source": [
    "print(X_train_counts.shape)\n",
    "#print(X_train_stem.shape)"
   ]
  },
  {
   "cell_type": "markdown",
   "metadata": {},
   "source": [
    "## Naive Bayes classifier"
   ]
  },
  {
   "cell_type": "markdown",
   "metadata": {},
   "source": [
    "Now, let's build a classifier for interesting and not-interesting journal articles. First, we use a Naive Bayes classifier which can be trained in a short time and is often used for text classification cases. Here, 'Naive' means, that all features are assumed to be independent from each other. That is not really the case for text, where the grammatical structure and the following words determine the meaning of a sentence. However, by using higher grams like 2-grams, this disadvantage can be slightly overcome.\n",
    "\n",
    "To find the best hyperparameters I built a pipeline for the classifier but also the vectorizer. This way even for gram size or minimum word occurence the best parameters can be conveniently deduced."
   ]
  },
  {
   "cell_type": "code",
   "execution_count": 22,
   "metadata": {},
   "outputs": [],
   "source": [
    "from sklearn.pipeline import Pipeline\n",
    "from sklearn.naive_bayes import MultinomialNB\n",
    "from sklearn.feature_extraction.text import TfidfVectorizer\n",
    "\n",
    "nb_pipeline = Pipeline([\n",
    "        ('vect', TfidfVectorizer(stop_words='english')),\n",
    "        ('nbclf', MultinomialNB())    \n",
    "])\n",
    "\n",
    "param_grid_nb = [\n",
    "    {'vect__use_idf': [False, True], \n",
    "     'vect__min_df': [2, 5 ,10], \n",
    "     'vect__ngram_range': [(1,2),(1,3)],\n",
    "     'nbclf__alpha': [0.01, 0.05, 0.1]}\n",
    "]"
   ]
  },
  {
   "cell_type": "code",
   "execution_count": null,
   "metadata": {},
   "outputs": [],
   "source": [
    "from sklearn.model_selection import GridSearchCV\n",
    "\n",
    "grid_search_nb = GridSearchCV(nb_pipeline, param_grid_nb, cv=10)\n",
    "grid_search_nb.fit(X_train_pstem, y_train)"
   ]
  },
  {
   "cell_type": "markdown",
   "metadata": {},
   "source": [
    "These are the best parameters which I use to train the model on the entire train set."
   ]
  },
  {
   "cell_type": "code",
   "execution_count": null,
   "metadata": {},
   "outputs": [],
   "source": [
    "grid_search_nb.best_params_"
   ]
  },
  {
   "cell_type": "code",
   "execution_count": 23,
   "metadata": {},
   "outputs": [
    {
     "data": {
      "text/plain": [
       "Pipeline(memory=None,\n",
       "     steps=[('vect', TfidfVectorizer(analyzer='word', binary=False, decode_error='strict',\n",
       "        dtype=<class 'numpy.float64'>, encoding='utf-8', input='content',\n",
       "        lowercase=True, max_df=1.0, max_features=None, min_df=2,\n",
       "        ngram_range=(1, 2), norm='l2', preprocessor=None, smooth_idf=True,\n",
       "...,\n",
       "        vocabulary=None)), ('nbclf', MultinomialNB(alpha=0.05, class_prior=None, fit_prior=True))])"
      ]
     },
     "execution_count": 23,
     "metadata": {},
     "output_type": "execute_result"
    }
   ],
   "source": [
    "nb_pipeline.set_params(nbclf__alpha=0.05,vect__min_df=2,vect__ngram_range=(1, 2), vect__use_idf=False).fit(X_train_pstem, y_train)"
   ]
  },
  {
   "cell_type": "markdown",
   "metadata": {},
   "source": [
    "Giving an accuracy of:"
   ]
  },
  {
   "cell_type": "code",
   "execution_count": 24,
   "metadata": {},
   "outputs": [
    {
     "data": {
      "text/plain": [
       "0.8877262443438914"
      ]
     },
     "execution_count": 24,
     "metadata": {},
     "output_type": "execute_result"
    }
   ],
   "source": [
    "from sklearn.metrics import accuracy_score\n",
    "\n",
    "y_pred_nb_pipeline = nb_pipeline.predict(X_test_pstem)\n",
    "accuracy_score(y_pred_nb_pipeline, y_test)"
   ]
  },
  {
   "cell_type": "markdown",
   "metadata": {},
   "source": [
    "The confusion matrix shows that there  exists an imbalance between false positive and false negative classifications."
   ]
  },
  {
   "cell_type": "code",
   "execution_count": 25,
   "metadata": {},
   "outputs": [
    {
     "data": {
      "image/png": "[encoded data removed]",
      "text/plain": [
       "<Figure size 432x288 with 1 Axes>"
      ]
     },
     "metadata": {
      "needs_background": "light"
     },
     "output_type": "display_data"
    }
   ],
   "source": [
    "from sklearn.metrics import confusion_matrix\n",
    "import seaborn as sns\n",
    "\n",
    "matrix = confusion_matrix(y_test, y_pred_nb_pipeline)\n",
    "dataframe = pd.DataFrame(matrix, index=['spam', 'ham'], columns=['spam', 'ham'])\n",
    "\n",
    "sns.heatmap(dataframe, annot=True, cbar=None, cmap='Blues')\n",
    "plt.title('Confusion matrix'), plt.tight_layout()\n",
    "plt.ylabel('True class'), plt.xlabel('Predicted class')\n",
    "plt.show()"
   ]
  },
  {
   "cell_type": "code",
   "execution_count": 27,
   "metadata": {},
   "outputs": [],
   "source": [
    "from sklearn.metrics import roc_curve, precision_recall_curve, roc_auc_score\n",
    "\n",
    "nb_ppl_proba = nb_pipeline.predict_proba(X_test_pstem)\n",
    "fpr_nb_ppl, tpr_nb_ppl, thresholds_nb_ppl = roc_curve(y_test, nb_ppl_proba[:,1], pos_label=1)\n",
    "auc_nb = roc_auc_score(y_test, nb_ppl_proba[:,1])\n",
    "prec_nb_ppl, rec_nb_ppl, thresholds_pr_nb_ppl = precision_recall_curve(y_test, nb_ppl_proba[:,1], pos_label=1)"
   ]
  },
  {
   "cell_type": "markdown",
   "metadata": {},
   "source": [
    "## Random forrest"
   ]
  },
  {
   "cell_type": "markdown",
   "metadata": {},
   "source": [
    "To investigate if a different classifier may lead to better results we do the same procedure for a Random Forrest classifier."
   ]
  },
  {
   "cell_type": "code",
   "execution_count": 28,
   "metadata": {},
   "outputs": [],
   "source": [
    "from sklearn.ensemble import RandomForestClassifier\n",
    "\n",
    "rf_pipeline = Pipeline([\n",
    "        ('vect', TfidfVectorizer(stop_words='english')),\n",
    "        ('rfclf', RandomForestClassifier())    \n",
    "])\n",
    "\n",
    "param_grid_rf = [\n",
    "    {'vect__use_idf': [False], \n",
    "     'vect__min_df': [5, 10], \n",
    "     'vect__ngram_range': [(1,2),(1,3)],\n",
    "     'rfclf__n_estimators': [200, 500, 1000]}\n",
    "]"
   ]
  },
  {
   "cell_type": "code",
   "execution_count": null,
   "metadata": {},
   "outputs": [],
   "source": [
    "grid_search_rf = GridSearchCV(rf_pipeline, param_grid_rf, cv=10)\n",
    "\n",
    "grid_search_rf.fit(X_train_pstem, y_train)"
   ]
  },
  {
   "cell_type": "code",
   "execution_count": null,
   "metadata": {},
   "outputs": [],
   "source": [
    "grid_search_rf.best_params_"
   ]
  },
  {
   "cell_type": "markdown",
   "metadata": {},
   "source": [
    "Now use the best parameters to train a model on the entire train set."
   ]
  },
  {
   "cell_type": "code",
   "execution_count": 29,
   "metadata": {},
   "outputs": [
    {
     "data": {
      "text/plain": [
       "Pipeline(memory=None,\n",
       "     steps=[('vect', TfidfVectorizer(analyzer='word', binary=False, decode_error='strict',\n",
       "        dtype=<class 'numpy.float64'>, encoding='utf-8', input='content',\n",
       "        lowercase=True, max_df=1.0, max_features=None, min_df=5,\n",
       "        ngram_range=(1, 3), norm='l2', preprocessor=None, smooth_idf=True,\n",
       "...obs=None,\n",
       "            oob_score=False, random_state=None, verbose=0,\n",
       "            warm_start=False))])"
      ]
     },
     "execution_count": 29,
     "metadata": {},
     "output_type": "execute_result"
    }
   ],
   "source": [
    "rf_pipeline.set_params(rfclf__n_estimators=500,vect__min_df=5,vect__ngram_range=(1, 3),vect__use_idf=False).fit(X_train_pstem, y_train)"
   ]
  },
  {
   "cell_type": "code",
   "execution_count": 30,
   "metadata": {},
   "outputs": [
    {
     "data": {
      "text/plain": [
       "0.9007352941176471"
      ]
     },
     "execution_count": 30,
     "metadata": {},
     "output_type": "execute_result"
    }
   ],
   "source": [
    "y_pred_rf_pipeline = rf_pipeline.predict(X_test_pstem)\n",
    "accuracy_score(y_pred_rf_pipeline, y_test)"
   ]
  },
  {
   "cell_type": "code",
   "execution_count": 31,
   "metadata": {},
   "outputs": [
    {
     "data": {
      "image/png": "[encoded data removed]",
      "text/plain": [
       "<Figure size 432x288 with 1 Axes>"
      ]
     },
     "metadata": {
      "needs_background": "light"
     },
     "output_type": "display_data"
    }
   ],
   "source": [
    "matrix = confusion_matrix(y_test, y_pred_rf_pipeline)\n",
    "dataframe = pd.DataFrame(matrix, index=['spam', 'ham'], columns=['spam', 'ham'])\n",
    "\n",
    "sns.heatmap(dataframe, annot=True, cbar=None, cmap='Blues')\n",
    "plt.title('Confusion matrix'), plt.tight_layout()\n",
    "plt.ylabel('True class'), plt.xlabel('Predicted class')\n",
    "plt.show()"
   ]
  },
  {
   "cell_type": "code",
   "execution_count": 32,
   "metadata": {},
   "outputs": [],
   "source": [
    "rf_ppl_proba = rf_pipeline.predict_proba(X_test_pstem)\n",
    "fpr_rf_ppl, tpr_rf_ppl, thresholds_rf_ppl = roc_curve(y_test, rf_ppl_proba[:,1], pos_label=1)\n",
    "auc_rf = roc_auc_score(y_test, rf_ppl_proba[:,1])\n",
    "prec_rf_ppl, rec_rf_ppl, thresholds_pr_rf_ppl = precision_recall_curve(y_test, rf_ppl_proba[:,1], pos_label=1)"
   ]
  },
  {
   "cell_type": "markdown",
   "metadata": {},
   "source": [
    "## LSTM with embedding"
   ]
  },
  {
   "cell_type": "markdown",
   "metadata": {},
   "source": [
    "A more advanced model compared to the bag of words approach is to use word embeddings. Here, every word gets a vector in an embedding space which is learned during training. Then, a sentence is a sequence of word vectors, which is modeled in a recurrent neural network using LSTM cells. Thereby, the order of the words is used as additional information.\n",
    "\n",
    "First, the words in the titles are tokenized, meaning every word gets a distinct integer number and a vocabulary is built."
   ]
  },
  {
   "cell_type": "code",
   "execution_count": 33,
   "metadata": {},
   "outputs": [],
   "source": [
    "from tensorflow.keras.preprocessing.text import Tokenizer\n",
    "\n",
    "max_words = 8000\n",
    "\n",
    "tok = Tokenizer(num_words=max_words)\n",
    "tok.fit_on_texts(X_train_pstem) \n",
    "\n",
    "X_train_seq = tok.texts_to_sequences(X_train_pstem)\n",
    "X_test_seq = tok.texts_to_sequences(X_test_pstem)"
   ]
  },
  {
   "cell_type": "markdown",
   "metadata": {},
   "source": [
    "The titles have different length, but the LSTM network has a fixed size of cells. Therefore, all titles are padded to have a fixed length by introducing a free number (10327) to missing places."
   ]
  },
  {
   "cell_type": "code",
   "execution_count": 34,
   "metadata": {},
   "outputs": [
    {
     "data": {
      "text/plain": [
       "(array([  0.,   6.,  36.,  77., 120., 207., 340., 481., 692., 765., 888.,\n",
       "        794., 786., 686., 585., 519., 363., 262., 185., 138., 109.,  57.,\n",
       "         51.,  28.,  21.,  17.,  11.,   4.,   9.]),\n",
       " array([ 0,  1,  2,  3,  4,  5,  6,  7,  8,  9, 10, 11, 12, 13, 14, 15, 16,\n",
       "        17, 18, 19, 20, 21, 22, 23, 24, 25, 26, 27, 28, 29]),\n",
       " <a list of 29 Patch objects>)"
      ]
     },
     "execution_count": 34,
     "metadata": {},
     "output_type": "execute_result"
    },
    {
     "data": {
      "image/png": "[encoded data removed]",
      "text/plain": [
       "<Figure size 432x288 with 1 Axes>"
      ]
     },
     "metadata": {
      "needs_background": "light"
     },
     "output_type": "display_data"
    }
   ],
   "source": [
    "seq_len = [len(seq.split()) for seq in X_train]\n",
    "plt.hist(seq_len, bins=range(30))"
   ]
  },
  {
   "cell_type": "code",
   "execution_count": 35,
   "metadata": {},
   "outputs": [
    {
     "name": "stdout",
     "output_type": "stream",
     "text": [
      "[8880 8880 8880 8880 8880 8880 8880 8880   14    3 1682  522  182    1\n",
      " 1869  134  169 4167  839   30   24  503  351   32  133]\n"
     ]
    }
   ],
   "source": [
    "from tensorflow.keras.preprocessing.sequence import pad_sequences\n",
    "n_features = len(tok.word_index)\n",
    "max_len = 25\n",
    "\n",
    "X_train_sequences = pad_sequences(X_train_seq, maxlen=max_len, value=n_features)\n",
    "X_test_sequences = pad_sequences(X_test_seq, maxlen=max_len, value=n_features)\n",
    "print(X_train_sequences[4])"
   ]
  },
  {
   "cell_type": "code",
   "execution_count": 36,
   "metadata": {},
   "outputs": [
    {
     "name": "stdout",
     "output_type": "stream",
     "text": [
      "_________________________________________________________________\n",
      "Layer (type)                 Output Shape              Param #   \n",
      "=================================================================\n",
      "embedding (Embedding)        (None, 25, 16)            142096    \n",
      "_________________________________________________________________\n",
      "lstm (LSTM)                  (None, 50)                13400     \n",
      "_________________________________________________________________\n",
      "dropout (Dropout)            (None, 50)                0         \n",
      "_________________________________________________________________\n",
      "dense (Dense)                (None, 1)                 51        \n",
      "=================================================================\n",
      "Total params: 155,547\n",
      "Trainable params: 155,547\n",
      "Non-trainable params: 0\n",
      "_________________________________________________________________\n",
      "None\n"
     ]
    }
   ],
   "source": [
    "from tensorflow.keras.models import Sequential\n",
    "from tensorflow.keras.layers import Dense, LSTM, Embedding, Dropout\n",
    "from tensorflow.keras.optimizers import Adam\n",
    " \n",
    "lstm_model = Sequential()\n",
    "lstm_model.add(Embedding(n_features + 1, 16, input_length=max_len))\n",
    "lstm_model.add(LSTM(50))\n",
    "lstm_model.add(Dropout(0.3))\n",
    "lstm_model.add(Dense(units=1, activation='sigmoid'))\n",
    "\n",
    "opt = Adam(lr=0.01, decay=0.01)\n",
    "\n",
    "lstm_model.compile(loss='binary_crossentropy', optimizer=opt, metrics=['accuracy'])\n",
    "print(lstm_model.summary())"
   ]
  },
  {
   "cell_type": "code",
   "execution_count": 37,
   "metadata": {},
   "outputs": [
    {
     "name": "stderr",
     "output_type": "stream",
     "text": [
      "/Users/hannokupers/anaconda3/envs/yangon/lib/python3.6/site-packages/tensorflow/python/ops/gradients_impl.py:112: UserWarning: Converting sparse IndexedSlices to a dense Tensor of unknown shape. This may consume a large amount of memory.\n",
      "  \"Converting sparse IndexedSlices to a dense Tensor of unknown shape. \"\n",
      "/Users/hannokupers/anaconda3/envs/yangon/lib/python3.6/site-packages/tensorflow/python/ops/gradients_impl.py:112: UserWarning: Converting sparse IndexedSlices to a dense Tensor of unknown shape. This may consume a large amount of memory.\n",
      "  \"Converting sparse IndexedSlices to a dense Tensor of unknown shape. \"\n"
     ]
    },
    {
     "name": "stdout",
     "output_type": "stream",
     "text": [
      "Train on 7424 samples, validate on 825 samples\n",
      "Epoch 1/2\n",
      "7424/7424 [==============================] - 35s 5ms/step - loss: 0.3514 - acc: 0.8521 - val_loss: 0.2676 - val_acc: 0.9018\n",
      "Epoch 2/2\n",
      "7424/7424 [==============================] - 30s 4ms/step - loss: 0.1943 - acc: 0.9297 - val_loss: 0.2838 - val_acc: 0.9030\n"
     ]
    }
   ],
   "source": [
    "history_lstm = lstm_model.fit(X_train_sequences, y_train, \n",
    "          epochs=2, batch_size=32, \n",
    "          validation_split=0.1)"
   ]
  },
  {
   "cell_type": "code",
   "execution_count": 38,
   "metadata": {},
   "outputs": [
    {
     "data": {
      "text/plain": [
       "<matplotlib.legend.Legend at 0x1a43e3dcf8>"
      ]
     },
     "execution_count": 38,
     "metadata": {},
     "output_type": "execute_result"
    },
    {
     "data": {
      "image/png": "[encoded data removed]",
      "text/plain": [
       "<Figure size 432x288 with 1 Axes>"
      ]
     },
     "metadata": {
      "needs_background": "light"
     },
     "output_type": "display_data"
    }
   ],
   "source": [
    "training_acc = history_lstm.history['acc']\n",
    "test_acc = history_lstm.history['val_acc']\n",
    "plt.plot(training_acc, 'r--')\n",
    "plt.plot(test_acc, 'b-')\n",
    "plt.legend(['Training Accuracy', 'Validation Accuracy'])"
   ]
  },
  {
   "cell_type": "code",
   "execution_count": 39,
   "metadata": {},
   "outputs": [
    {
     "name": "stdout",
     "output_type": "stream",
     "text": [
      "3536/3536 [==============================] - 3s 851us/step\n",
      "Accuracy: 0.896210407239819\n"
     ]
    }
   ],
   "source": [
    "scores = lstm_model.evaluate(X_test_sequences, y_test)\n",
    "print(\"Accuracy:\", scores[1]) # 0.896"
   ]
  },
  {
   "cell_type": "code",
   "execution_count": 42,
   "metadata": {},
   "outputs": [],
   "source": [
    "y_pred_lstm = lstm_model.predict(X_test_sequences).ravel()\n",
    "fpr_lstm, tpr_lstm, thresholds_lstm = roc_curve(y_test, y_pred_lstm)\n",
    "auc_lstm = roc_auc_score(y_test, y_pred_lstm)"
   ]
  },
  {
   "cell_type": "code",
   "execution_count": 43,
   "metadata": {},
   "outputs": [
    {
     "data": {
      "image/png": "[encoded data removed]",
      "text/plain": [
       "<Figure size 432x288 with 1 Axes>"
      ]
     },
     "metadata": {
      "needs_background": "light"
     },
     "output_type": "display_data"
    }
   ],
   "source": [
    "matrix = confusion_matrix(y_test, np.round(y_pred_lstm,0))\n",
    "dataframe = pd.DataFrame(matrix, index=['spam', 'ham'], columns=['spam', 'ham'])\n",
    "\n",
    "sns.heatmap(dataframe, annot=True, cbar=None, cmap='Blues')\n",
    "plt.title('Confusion matrix'), plt.tight_layout()\n",
    "plt.ylabel('True class'), plt.xlabel('Predicted class')\n",
    "plt.show()"
   ]
  },
  {
   "cell_type": "markdown",
   "metadata": {},
   "source": [
    "## Evaluation of models"
   ]
  },
  {
   "cell_type": "markdown",
   "metadata": {},
   "source": [
    "For an evaluation of the two classifiers the ROC curve is helpful, showing the false positive rate and true positive rate for different threshold values. Also precision and recall curves can be compared. Both evaluation methods show that the random forest model results in better results underlining the 88.7% accuracy value. The embedding model with LSTM cannot improve these results, indicating that the accuracy is not limited by the model."
   ]
  },
  {
   "cell_type": "code",
   "execution_count": 44,
   "metadata": {},
   "outputs": [
    {
     "name": "stdout",
     "output_type": "stream",
     "text": [
      "Area under curve for Naive Bayes:  0.9407662412343839 \n",
      "Area under curve Random Forrest:  0.9510497337203472 \n",
      "Area under curve LSTM:  0.9458921991060976\n"
     ]
    }
   ],
   "source": [
    "print('Area under curve for Naive Bayes: ', auc_nb,'\\nArea under curve Random Forrest: ', auc_rf,'\\nArea under curve LSTM: ', auc_lstm)"
   ]
  },
  {
   "cell_type": "code",
   "execution_count": 45,
   "metadata": {},
   "outputs": [
    {
     "data": {
      "image/png": "[encoded data removed]",
      "text/plain": [
       "<Figure size 1080x504 with 2 Axes>"
      ]
     },
     "metadata": {
      "needs_background": "light"
     },
     "output_type": "display_data"
    }
   ],
   "source": [
    "import matplotlib.pyplot as plt\n",
    "\n",
    "fig, (ax,ax2) = plt.subplots(1,2,figsize=(15,7))\n",
    "ax.plot(fpr_nb_ppl, tpr_nb_ppl,'green', label='Naive Bayes')\n",
    "ax.plot(fpr_rf_ppl, tpr_rf_ppl,'blue', label='Random Forest')\n",
    "ax.plot(fpr_lstm, tpr_lstm,'red', label='LSTM model')\n",
    "ax.plot([0,1],[0,1],'--')\n",
    "ax.legend(fontsize='large')\n",
    "ax.set_xlabel('false positive rate'), ax.set_ylabel('true positive rate')\n",
    "ax.set_xlim([0,1]), ax.set_ylim([0,1])\n",
    "\n",
    "ax2.plot(prec_nb_ppl, rec_nb_ppl,'green', label='Naive Bayes')\n",
    "ax2.plot(prec_rf_ppl, rec_rf_ppl,'blue', label='Random Forest')\n",
    "ax2.legend(fontsize='large')\n",
    "ax2.set_xlabel('precision'), ax2.set_ylabel('recall')\n",
    "ax2.set_xlim([0,1]), ax2.set_ylim([0,1.01])\n",
    "\n",
    "plt.show()"
   ]
  },
  {
   "cell_type": "markdown",
   "metadata": {},
   "source": [
    "## Evaluation of most incorrect predictions"
   ]
  },
  {
   "cell_type": "markdown",
   "metadata": {},
   "source": [
    "When we take a look at the titles of the most incorrectly predicted publications we see that many entries from the database (category=1) seem to be rather not of wide interest for the research group but just interesting for a specific project or idea of a single researcher. Also, there are of course spam entries that are actually of interest. These misclassifications and the unclear collection in the database are now the limiting factor for achieving a better training result. However, when using our models for the prediction of new publications we can assume that it will perform better than the test accuracy as the wrongly predicted test samples seem to be rather wrongly labeled."
   ]
  },
  {
   "cell_type": "code",
   "execution_count": 47,
   "metadata": {},
   "outputs": [],
   "source": [
    "predictions = pd.DataFrame(data={'title':X_test, 'category':y_test, 'prediction':y_pred_lstm, 'worst':abs(y_pred_lstm - y_test)})"
   ]
  },
  {
   "cell_type": "code",
   "execution_count": 49,
   "metadata": {},
   "outputs": [
    {
     "data": {
      "text/html": [
       "<div>\n",
       "<style scoped>\n",
       "    .dataframe tbody tr th:only-of-type {\n",
       "        vertical-align: middle;\n",
       "    }\n",
       "\n",
       "    .dataframe tbody tr th {\n",
       "        vertical-align: top;\n",
       "    }\n",
       "\n",
       "    .dataframe thead th {\n",
       "        text-align: right;\n",
       "    }\n",
       "</style>\n",
       "<table border=\"1\" class=\"dataframe\">\n",
       "  <thead>\n",
       "    <tr style=\"text-align: right;\">\n",
       "      <th></th>\n",
       "      <th>title</th>\n",
       "      <th>category</th>\n",
       "      <th>prediction</th>\n",
       "      <th>worst</th>\n",
       "    </tr>\n",
       "  </thead>\n",
       "  <tbody>\n",
       "    <tr>\n",
       "      <th>987</th>\n",
       "      <td>Determination of Surface Potential and Electrical Double-Layer Structure at the Aqueous Electrolyte-Nanoparticle Interface</td>\n",
       "      <td>1</td>\n",
       "      <td>0.001546</td>\n",
       "      <td>0.998454</td>\n",
       "    </tr>\n",
       "    <tr>\n",
       "      <th>3080</th>\n",
       "      <td>The Anomalous Hall Effect of Co$_{2}$FeAl$_{0.5}$Si$_{0.5}$/Pt Multilayers with Perpendicular Magnetic Anisotropy</td>\n",
       "      <td>1</td>\n",
       "      <td>0.001956</td>\n",
       "      <td>0.998044</td>\n",
       "    </tr>\n",
       "    <tr>\n",
       "      <th>3189</th>\n",
       "      <td>Current Induced Tilting of Domain Walls in High Velocity Motion along Perpendicularly Magnetized Micron-Sized Co/Ni/Co Racetracks</td>\n",
       "      <td>1</td>\n",
       "      <td>0.002006</td>\n",
       "      <td>0.997994</td>\n",
       "    </tr>\n",
       "    <tr>\n",
       "      <th>135</th>\n",
       "      <td>The classical and theoretical simulation for dominant radiated frequencies of plasma nanowire in presence of a long monopole antenna with long wavelength radiation</td>\n",
       "      <td>1</td>\n",
       "      <td>0.002033</td>\n",
       "      <td>0.997967</td>\n",
       "    </tr>\n",
       "    <tr>\n",
       "      <th>2183</th>\n",
       "      <td>Polarization-coupled polariton pairs in a birefringent microcavity</td>\n",
       "      <td>1</td>\n",
       "      <td>0.002291</td>\n",
       "      <td>0.997709</td>\n",
       "    </tr>\n",
       "    <tr>\n",
       "      <th>3107</th>\n",
       "      <td>An efficient measure of compactness for two-dimensional shapes and its application in regionalization problems</td>\n",
       "      <td>1</td>\n",
       "      <td>0.002339</td>\n",
       "      <td>0.997661</td>\n",
       "    </tr>\n",
       "    <tr>\n",
       "      <th>4083</th>\n",
       "      <td>Multigate transistors as the future of classical metal–oxide–semiconductor field-effect transistors</td>\n",
       "      <td>1</td>\n",
       "      <td>0.002385</td>\n",
       "      <td>0.997615</td>\n",
       "    </tr>\n",
       "    <tr>\n",
       "      <th>2894</th>\n",
       "      <td>Implementation of magnetic field assistance to current-induced perpendicular-magnetic-anisotropy racetrack memory</td>\n",
       "      <td>1</td>\n",
       "      <td>0.002623</td>\n",
       "      <td>0.997377</td>\n",
       "    </tr>\n",
       "    <tr>\n",
       "      <th>1129</th>\n",
       "      <td>Nanoscience in the era of global science and global change—Cooperative, quantitative, and focused on benefit to humanity</td>\n",
       "      <td>1</td>\n",
       "      <td>0.002681</td>\n",
       "      <td>0.997319</td>\n",
       "    </tr>\n",
       "    <tr>\n",
       "      <th>824</th>\n",
       "      <td>Growth of Crystal Faces Enhanced by 3D Nuclei Deposition: A Monte Carlo Simulation</td>\n",
       "      <td>1</td>\n",
       "      <td>0.002747</td>\n",
       "      <td>0.997253</td>\n",
       "    </tr>\n",
       "    <tr>\n",
       "      <th>1754</th>\n",
       "      <td>Nanoscale electromechanics to measure thermal conductivity, expansion and interfacial losses</td>\n",
       "      <td>1</td>\n",
       "      <td>0.002754</td>\n",
       "      <td>0.997246</td>\n",
       "    </tr>\n",
       "    <tr>\n",
       "      <th>1666</th>\n",
       "      <td>P-type nitrogen-doped ZnO nanoparticles stable under ambient conditions</td>\n",
       "      <td>1</td>\n",
       "      <td>0.002795</td>\n",
       "      <td>0.997205</td>\n",
       "    </tr>\n",
       "    <tr>\n",
       "      <th>4206</th>\n",
       "      <td>A Brief Guide to Designing Effective Figures for the Scientific Paper</td>\n",
       "      <td>1</td>\n",
       "      <td>0.002901</td>\n",
       "      <td>0.997099</td>\n",
       "    </tr>\n",
       "    <tr>\n",
       "      <th>1800</th>\n",
       "      <td>Nanobranched ZnO Structure: p-Type Doping Induces Piezoelectric Voltage Generation and Ferroelectric-Photovoltaic Effect.</td>\n",
       "      <td>1</td>\n",
       "      <td>0.002906</td>\n",
       "      <td>0.997094</td>\n",
       "    </tr>\n",
       "    <tr>\n",
       "      <th>2498</th>\n",
       "      <td>Room-Temperature Near-Infrared High-Q Perovskite Whispering-Gallery Planar Nanolasers.</td>\n",
       "      <td>1</td>\n",
       "      <td>0.002926</td>\n",
       "      <td>0.997074</td>\n",
       "    </tr>\n",
       "    <tr>\n",
       "      <th>756</th>\n",
       "      <td>Nanoparticle Trapping and Characterization Using Open Microcavities</td>\n",
       "      <td>1</td>\n",
       "      <td>0.004239</td>\n",
       "      <td>0.995761</td>\n",
       "    </tr>\n",
       "    <tr>\n",
       "      <th>910</th>\n",
       "      <td>Erratum: “Auger recombination rates in nitrides from first principles” [Appl. Phys. Lett. 94, 191109 (2009)]</td>\n",
       "      <td>1</td>\n",
       "      <td>0.005234</td>\n",
       "      <td>0.994766</td>\n",
       "    </tr>\n",
       "    <tr>\n",
       "      <th>2287</th>\n",
       "      <td>In-situ optical measurement of charge transport dynamics in organic photovoltaics</td>\n",
       "      <td>1</td>\n",
       "      <td>0.005241</td>\n",
       "      <td>0.994759</td>\n",
       "    </tr>\n",
       "    <tr>\n",
       "      <th>1131</th>\n",
       "      <td>Crystal Growth Rate Dispersion versus Size-Dependent Crystal Growth: Appropriate Modeling for Crystallization Processes</td>\n",
       "      <td>1</td>\n",
       "      <td>0.005631</td>\n",
       "      <td>0.994369</td>\n",
       "    </tr>\n",
       "    <tr>\n",
       "      <th>2570</th>\n",
       "      <td>Formation of a bcc (001)-textured CoFe layer by the insertion of an FeZr layer in multilayer-based stacks with perpendicular magnetic anisotropy</td>\n",
       "      <td>1</td>\n",
       "      <td>0.006059</td>\n",
       "      <td>0.993941</td>\n",
       "    </tr>\n",
       "  </tbody>\n",
       "</table>\n",
       "</div>"
      ],
      "text/plain": [
       "                                                                                                                                                                    title  \\\n",
       "987   Determination of Surface Potential and Electrical Double-Layer Structure at the Aqueous Electrolyte-Nanoparticle Interface                                            \n",
       "3080  The Anomalous Hall Effect of Co$_{2}$FeAl$_{0.5}$Si$_{0.5}$/Pt Multilayers with Perpendicular Magnetic Anisotropy                                                     \n",
       "3189  Current Induced Tilting of Domain Walls in High Velocity Motion along Perpendicularly Magnetized Micron-Sized Co/Ni/Co Racetracks                                     \n",
       "135   The classical and theoretical simulation for dominant radiated frequencies of plasma nanowire in presence of a long monopole antenna with long wavelength radiation   \n",
       "2183  Polarization-coupled polariton pairs in a birefringent microcavity                                                                                                    \n",
       "3107  An efficient measure of compactness for two-dimensional shapes and its application in regionalization problems                                                        \n",
       "4083  Multigate transistors as the future of classical metal–oxide–semiconductor field-effect transistors                                                                   \n",
       "2894  Implementation of magnetic field assistance to current-induced perpendicular-magnetic-anisotropy racetrack memory                                                     \n",
       "1129  Nanoscience in the era of global science and global change—Cooperative, quantitative, and focused on benefit to humanity                                              \n",
       "824   Growth of Crystal Faces Enhanced by 3D Nuclei Deposition: A Monte Carlo Simulation                                                                                    \n",
       "1754  Nanoscale electromechanics to measure thermal conductivity, expansion and interfacial losses                                                                          \n",
       "1666  P-type nitrogen-doped ZnO nanoparticles stable under ambient conditions                                                                                               \n",
       "4206  A Brief Guide to Designing Effective Figures for the Scientific Paper                                                                                                 \n",
       "1800  Nanobranched ZnO Structure: p-Type Doping Induces Piezoelectric Voltage Generation and Ferroelectric-Photovoltaic Effect.                                             \n",
       "2498  Room-Temperature Near-Infrared High-Q Perovskite Whispering-Gallery Planar Nanolasers.                                                                                \n",
       "756   Nanoparticle Trapping and Characterization Using Open Microcavities                                                                                                   \n",
       "910   Erratum: “Auger recombination rates in nitrides from first principles” [Appl. Phys. Lett. 94, 191109 (2009)]                                                          \n",
       "2287  In-situ optical measurement of charge transport dynamics in organic photovoltaics                                                                                     \n",
       "1131  Crystal Growth Rate Dispersion versus Size-Dependent Crystal Growth: Appropriate Modeling for Crystallization Processes                                               \n",
       "2570  Formation of a bcc (001)-textured CoFe layer by the insertion of an FeZr layer in multilayer-based stacks with perpendicular magnetic anisotropy                      \n",
       "\n",
       "      category  prediction     worst  \n",
       "987   1         0.001546    0.998454  \n",
       "3080  1         0.001956    0.998044  \n",
       "3189  1         0.002006    0.997994  \n",
       "135   1         0.002033    0.997967  \n",
       "2183  1         0.002291    0.997709  \n",
       "3107  1         0.002339    0.997661  \n",
       "4083  1         0.002385    0.997615  \n",
       "2894  1         0.002623    0.997377  \n",
       "1129  1         0.002681    0.997319  \n",
       "824   1         0.002747    0.997253  \n",
       "1754  1         0.002754    0.997246  \n",
       "1666  1         0.002795    0.997205  \n",
       "4206  1         0.002901    0.997099  \n",
       "1800  1         0.002906    0.997094  \n",
       "2498  1         0.002926    0.997074  \n",
       "756   1         0.004239    0.995761  \n",
       "910   1         0.005234    0.994766  \n",
       "2287  1         0.005241    0.994759  \n",
       "1131  1         0.005631    0.994369  \n",
       "2570  1         0.006059    0.993941  "
      ]
     },
     "execution_count": 49,
     "metadata": {},
     "output_type": "execute_result"
    }
   ],
   "source": [
    "pd.set_option('display.max_colwidth', -1)\n",
    "predictions.sort_values('worst',ascending=False).head(20)"
   ]
  },
  {
   "cell_type": "markdown",
   "metadata": {},
   "source": [
    "# Prediction for new publications"
   ]
  },
  {
   "cell_type": "markdown",
   "metadata": {},
   "source": [
    "Finally, we can use our trained model now for the prediction of interesting articles that just got published. Most journals serve RSS feeds listing their new publications. Using the feedparser library I built a function to parse such a RSS feed into a pandas dataframe."
   ]
  },
  {
   "cell_type": "code",
   "execution_count": 51,
   "metadata": {},
   "outputs": [],
   "source": [
    "import feedparser\n",
    "\n",
    "def parse_feed(address):\n",
    "    feed_array = feedparser.parse(address)\n",
    "    return feed_array\n",
    "\n",
    "def parse_feed_list2df(feed_list):\n",
    "    publications_list = []\n",
    "    for feed_addr in feed_list:\n",
    "        feed_parsed = parse_feed(feed_addr)\n",
    "        for publication in feed_parsed.entries:\n",
    "            publications_list.append((publication.title, publication.summary, publication.link))#publication.author\n",
    "    feed_df = pd.DataFrame(publications_list, columns=['title', 'abstract', 'link']) #, 'author'\n",
    "    return feed_df"
   ]
  },
  {
   "cell_type": "code",
   "execution_count": 52,
   "metadata": {},
   "outputs": [],
   "source": [
    "addr_feed_new = ['http://feeds.feedburner.com/acs/nalefd']#'http://aip.scitation.org/action/showFeed?type=etoc&feed=rss&jc=apl']#'http://iopscience.iop.org/0957-4484/?rss=1'],\n",
    "feed_new_df = parse_feed_list2df(addr_feed_new)"
   ]
  },
  {
   "cell_type": "markdown",
   "metadata": {},
   "source": [
    "The titles of the new publications need to be converted to count-vectors using the same transformer as for the training procedure earlier. Then, I used this list of count-vectors for predictions of the degree of interest every new publication has for our scientific group."
   ]
  },
  {
   "cell_type": "code",
   "execution_count": 55,
   "metadata": {},
   "outputs": [],
   "source": [
    "X_feed_new = p.stem_documents(feed_new_df['title'])\n",
    "y_feed_new = rf_pipeline.predict_proba(X_feed_new)"
   ]
  },
  {
   "cell_type": "markdown",
   "metadata": {},
   "source": [
    "Let's see if the recommended publications sound interesting. By changing the threshold value for predictions, we can adjust the false positive and false negative rate so that we either do not miss any interesting publication but many uninteresting articles are recommended or we get less recommendations for uninteresting articles but may miss some interesting ones."
   ]
  },
  {
   "cell_type": "code",
   "execution_count": 56,
   "metadata": {},
   "outputs": [
    {
     "name": "stdout",
     "output_type": "stream",
     "text": [
      "0.9465 [ASAP] Near-Infrared Lasing at 1 µm from a Dilute-Nitride-Based Multishell Nanowire\n",
      "http://feedproxy.google.com/~r/acs/nalefd/~3/AG6qxsYQraQ/acs.nanolett.8b04103\n",
      "0.944 [ASAP] Vectorial Control of the Spin–Orbit Interaction in Suspended InAs Nanowires\n",
      "http://feedproxy.google.com/~r/acs/nalefd/~3/NUp9MvhDs6A/acs.nanolett.8b02828\n",
      "0.942 [ASAP] Ultraflexible Nanowire Array for Label- and Distortion-Free Cellular Force Tracking\n",
      "http://feedproxy.google.com/~r/acs/nalefd/~3/zGZcZpnYVQI/acs.nanolett.8b02568\n",
      "0.928 [ASAP] Preferential Positioning, Stability, and Segregation of Dopants in Hexagonal Si Nanowires\n",
      "http://feedproxy.google.com/~r/acs/nalefd/~3/7e4fbMe1K2c/acs.nanolett.8b04083\n",
      "0.9 [ASAP] Simulation of GaAs Nanowire Growth and Crystal Structure\n",
      "http://feedproxy.google.com/~r/acs/nalefd/~3/G0Jsi1vEqbc/acs.nanolett.8b04637\n",
      "0.588 [ASAP] Magnetic Force Sensing Using a Self-Assembled Nanowire\n",
      "http://feedproxy.google.com/~r/acs/nalefd/~3/aQFPLawVHSc/acs.nanolett.8b04174\n",
      "0.582 [ASAP] Imaging of Plasmonic Chiral Radiative Local Density of States with Cathodoluminescence Nanoscopy\n",
      "http://feedproxy.google.com/~r/acs/nalefd/~3/PNKqSeNuzq8/acs.nanolett.8b03850\n"
     ]
    }
   ],
   "source": [
    "threshold_predict = 0.5\n",
    "new_interesting_df = pd.DataFrame({'title':feed_new_df['title'].values, 'score':y_feed_new[:,1], 'link':feed_new_df['link'].values}).sort_values('score', ascending=False)\n",
    "\n",
    "for index, entry in new_interesting_df.iterrows():\n",
    "    if entry['score'] > threshold_predict:\n",
    "        print(entry['score'], entry['title'])\n",
    "        print(entry['link'])"
   ]
  },
  {
   "cell_type": "markdown",
   "metadata": {},
   "source": [
    "## Conclusion"
   ]
  },
  {
   "cell_type": "markdown",
   "metadata": {},
   "source": [
    "I used the existing literature database in combination with requests from the DOI Crossref API to efficiently generate a dataset for classification of research article data. Fairly good accuracies were achieved with standard classifier models which can now be used in combination with RSS feeds for keeping up-to-date with the newest reasearch literature.\n",
    "\n",
    "A major drawback was that the richer data from the articles' abstracts is difficult to access. Many entries in the database lack the information and so far there is no way to request it from the Crossref API. I believe that this data would push the accuracy of a classifier significantly. Also for these richer data more complex machine learning algorithms such as neural networks might bring an improvement in the classification."
   ]
  }
 ],
 "metadata": {
  "kernelspec": {
   "display_name": "yangon",
   "language": "python",
   "name": "yangon"
  },
  "language_info": {
   "codemirror_mode": {
    "name": "ipython",
    "version": 3
   },
   "file_extension": ".py",
   "mimetype": "text/x-python",
   "name": "python",
   "nbconvert_exporter": "python",
   "pygments_lexer": "ipython3",
   "version": "3.6.8"
  }
 },
 "nbformat": 4,
 "nbformat_minor": 2
}
